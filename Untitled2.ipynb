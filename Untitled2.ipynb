{
  "nbformat": 4,
  "nbformat_minor": 0,
  "metadata": {
    "colab": {
      "provenance": [],
      "authorship_tag": "ABX9TyNvmb3L8+GNO6WkRMu8u1hk",
      "include_colab_link": true
    },
    "kernelspec": {
      "name": "python3",
      "display_name": "Python 3"
    },
    "language_info": {
      "name": "python"
    }
  },
  "cells": [
    {
      "cell_type": "markdown",
      "metadata": {
        "id": "view-in-github",
        "colab_type": "text"
      },
      "source": [
        "<a href=\"https://colab.research.google.com/github/shinjinisen/drowsiness-detection/blob/main/Untitled2.ipynb\" target=\"_parent\"><img src=\"https://colab.research.google.com/assets/colab-badge.svg\" alt=\"Open In Colab\"/></a>"
      ]
    },
    {
      "cell_type": "markdown",
      "source": [
        "Build an ANN model for Drug classification.\n",
        "\n",
        "This project aims to analyze the relationship between various medical parameters and drug effectiveness. The dataset consists of patient information, including age, sex, blood pressure levels (BP), cholesterol levels sodium-to-potassium ratio (Na_to_K), drug type, and corresponding labels. The goal is to develop a model that can accurately predict the class or category of a given drug based on its features.\n",
        "\n",
        "Dataset Link: https://www.kaggle.com/datasets/prathamtripathi/drug-classification\n",
        "\n",
        "Task 1: Read the dataset and do data pre-processing\n",
        "\n",
        "Task 2: Build the ANN model with (input layer, min 3 hidden layers & output layer)\n",
        "\n",
        "Task 3: Test the model with random data"
      ],
      "metadata": {
        "id": "DL_xf7EXE6Js"
      }
    },
    {
      "cell_type": "code",
      "execution_count": null,
      "metadata": {
        "id": "Jc6XB5DFEUhv"
      },
      "outputs": [],
      "source": [
        "import pandas as pd\n",
        "from sklearn.model_selection import train_test_split\n",
        "from sklearn.preprocessing import LabelEncoder, StandardScaler"
      ]
    },
    {
      "cell_type": "markdown",
      "source": [
        "**Read the dataset**"
      ],
      "metadata": {
        "id": "UZAWKxQXFGSz"
      }
    },
    {
      "cell_type": "code",
      "source": [
        "data = pd.read_csv('/content/sample_data/drug_data.csv')\n",
        "print(data.head())"
      ],
      "metadata": {
        "id": "5koLhiomFIwE",
        "colab": {
          "base_uri": "https://localhost:8080/"
        },
        "outputId": "4118b150-cfad-4fee-b15d-f1e11883fd85"
      },
      "execution_count": null,
      "outputs": [
        {
          "output_type": "stream",
          "name": "stdout",
          "text": [
            "   Age Sex      BP Cholesterol  Na_to_K   Drug\n",
            "0   23   F    HIGH        HIGH   25.355  DrugY\n",
            "1   47   M     LOW        HIGH   13.093  drugC\n",
            "2   47   M     LOW        HIGH   10.114  drugC\n",
            "3   28   F  NORMAL        HIGH    7.798  drugX\n",
            "4   61   F     LOW        HIGH   18.043  DrugY\n"
          ]
        }
      ]
    },
    {
      "cell_type": "markdown",
      "source": [
        "**Separate features (X) and labels (y)**\n"
      ],
      "metadata": {
        "id": "ROctPDT0M_sG"
      }
    },
    {
      "cell_type": "code",
      "source": [
        "X = data.iloc[:, :-1]  # All columns except the last one\n",
        "y = data.iloc[:, -1]   # Last column"
      ],
      "metadata": {
        "id": "1OpOiG4xNAJ_"
      },
      "execution_count": null,
      "outputs": []
    },
    {
      "cell_type": "markdown",
      "source": [
        "**Perform label encoding on categorical features**"
      ],
      "metadata": {
        "id": "BSpsJpBANPK1"
      }
    },
    {
      "cell_type": "code",
      "source": [
        "encoder = LabelEncoder()\n",
        "X['Sex'] = encoder.fit_transform(X['Sex'])\n",
        "X['BP'] = encoder.fit_transform(X['BP'])\n",
        "X['Cholesterol'] = encoder.fit_transform(X['Cholesterol'])"
      ],
      "metadata": {
        "id": "dW1AQ79wNK57"
      },
      "execution_count": null,
      "outputs": []
    },
    {
      "cell_type": "markdown",
      "source": [
        "**Perform feature scaling**"
      ],
      "metadata": {
        "id": "NIdSlynCNT2m"
      }
    },
    {
      "cell_type": "code",
      "source": [
        "scaler = StandardScaler()\n",
        "X_scaled = scaler.fit_transform(X)"
      ],
      "metadata": {
        "id": "weABv6lrNVEi"
      },
      "execution_count": null,
      "outputs": []
    },
    {
      "cell_type": "markdown",
      "source": [
        "**Split the data into training and testing sets**"
      ],
      "metadata": {
        "id": "IE6X1syjNaXG"
      }
    },
    {
      "cell_type": "code",
      "source": [
        "X_train, X_test, y_train, y_test = train_test_split(X_scaled, y, test_size=0.2, random_state=42)\n",
        "\n",
        "\n",
        "import tensorflow as tf\n",
        "from tensorflow import keras"
      ],
      "metadata": {
        "id": "6BTQpw7qNc0g"
      },
      "execution_count": null,
      "outputs": []
    },
    {
      "cell_type": "markdown",
      "source": [
        "**Define the model architecture**"
      ],
      "metadata": {
        "id": "M3YUdTHcNiH_"
      }
    },
    {
      "cell_type": "code",
      "source": [
        "model = keras.Sequential([\n",
        "    keras.layers.Dense(64, activation='relu', input_shape=(5,)),\n",
        "    keras.layers.Dense(32, activation='relu'),\n",
        "    keras.layers.Dense(16, activation='relu'),\n",
        "    keras.layers.Dense(4, activation='softmax')\n",
        "])"
      ],
      "metadata": {
        "id": "fj_V8otaNjHP"
      },
      "execution_count": null,
      "outputs": []
    },
    {
      "cell_type": "markdown",
      "source": [
        "**Compile the model**"
      ],
      "metadata": {
        "id": "GoBhaiMnNmC2"
      }
    },
    {
      "cell_type": "code",
      "source": [
        "model.compile(optimizer='adam', loss='sparse_categorical_crossentropy', metrics=['accuracy'])"
      ],
      "metadata": {
        "id": "08smsT0GNpES"
      },
      "execution_count": null,
      "outputs": []
    },
    {
      "cell_type": "markdown",
      "source": [
        "**Train the model**"
      ],
      "metadata": {
        "id": "ML3SEGDqNugO"
      }
    },
    {
      "cell_type": "code",
      "source": [
        "from sklearn.preprocessing import LabelEncoder\n",
        "\n",
        "# Assuming X_train_categorical is defined and contains your categorical data\n",
        "X_train_categorical = ['category1', 'category2', 'category1', 'category3']\n",
        "\n",
        "# Create an instance of LabelEncoder\n",
        "encoder = LabelEncoder()\n",
        "\n",
        "# Fit and transform the categorical data\n",
        "X_train_encoded = encoder.fit_transform(X_train_categorical)\n",
        "\n",
        "# Now X_train_encoded contains numerical labels for each category\n",
        "print(X_train_encoded)\n",
        "\n"
      ],
      "metadata": {
        "colab": {
          "base_uri": "https://localhost:8080/"
        },
        "id": "yqdeIdZPNv56",
        "outputId": "0b97428b-8135-4102-889b-79a6f083a8dd"
      },
      "execution_count": 29,
      "outputs": [
        {
          "output_type": "stream",
          "name": "stdout",
          "text": [
            "[0 1 0 2]\n"
          ]
        }
      ]
    },
    {
      "cell_type": "markdown",
      "source": [
        "**Generate random data for testing**"
      ],
      "metadata": {
        "id": "UvUOruvrZK8-"
      }
    },
    {
      "cell_type": "code",
      "source": [
        "random_data = np.random.randn(5)  # Assuming 5 input features"
      ],
      "metadata": {
        "id": "a-daZv4VZMOU"
      },
      "execution_count": 30,
      "outputs": []
    },
    {
      "cell_type": "markdown",
      "source": [
        "**Scale the random data**"
      ],
      "metadata": {
        "id": "4gPfe8CUZSR9"
      }
    },
    {
      "cell_type": "code",
      "source": [
        "random_data_scaled = scaler.transform(random_data.reshape(1, -1))"
      ],
      "metadata": {
        "colab": {
          "base_uri": "https://localhost:8080/"
        },
        "id": "tpXqQ1b9ZTxt",
        "outputId": "bcfc8623-4f2c-4ec4-8261-6e147e735db8"
      },
      "execution_count": 31,
      "outputs": [
        {
          "output_type": "stream",
          "name": "stderr",
          "text": [
            "/usr/local/lib/python3.10/dist-packages/sklearn/base.py:439: UserWarning: X does not have valid feature names, but StandardScaler was fitted with feature names\n",
            "  warnings.warn(\n"
          ]
        }
      ]
    },
    {
      "cell_type": "markdown",
      "source": [
        "**Predict the drug class**"
      ],
      "metadata": {
        "id": "MFSP8IBSZZcg"
      }
    },
    {
      "cell_type": "code",
      "source": [
        "predictions = model.predict(random_data_scaled)\n",
        "predicted_class = np.argmax(predictions)"
      ],
      "metadata": {
        "colab": {
          "base_uri": "https://localhost:8080/"
        },
        "id": "VVYTIGUBZbNU",
        "outputId": "1ec36677-dcc0-453e-d33b-a8472bd1c49b"
      },
      "execution_count": 32,
      "outputs": [
        {
          "output_type": "stream",
          "name": "stdout",
          "text": [
            "1/1 [==============================] - 0s 22ms/step\n"
          ]
        }
      ]
    },
    {
      "cell_type": "markdown",
      "source": [
        "**Map the predicted class to the actual drug type**"
      ],
      "metadata": {
        "id": "GJtsTMHDZgo4"
      }
    },
    {
      "cell_type": "code",
      "source": [
        "drug_types = {0: 'drugA', 1: 'drugB', 2: 'drugC', 3: 'drugX'}\n",
        "predicted_drug = drug_types[predicted_class]\n",
        "print('Predicted drug class:', predicted_drug)"
      ],
      "metadata": {
        "colab": {
          "base_uri": "https://localhost:8080/"
        },
        "id": "MDGui9ZuZhhU",
        "outputId": "315451c7-4e53-44ca-aff4-752d27121147"
      },
      "execution_count": 33,
      "outputs": [
        {
          "output_type": "stream",
          "name": "stdout",
          "text": [
            "Predicted drug class: drugC\n"
          ]
        }
      ]
    }
  ]
}